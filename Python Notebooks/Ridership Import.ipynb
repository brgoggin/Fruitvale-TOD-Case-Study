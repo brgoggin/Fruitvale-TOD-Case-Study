{
 "cells": [
  {
   "cell_type": "code",
   "execution_count": 21,
   "metadata": {
    "collapsed": true
   },
   "outputs": [],
   "source": [
    "#import packages\n",
    "import pandas as pd\n",
    "import numpy as np\n",
    "import re as re\n",
    "import os\n",
    "import matplotlib as mil\n",
    "import matplotlib.pyplot as plt\n",
    "%matplotlib inline\n",
    "import statsmodels.formula.api as smf"
   ]
  },
  {
   "cell_type": "code",
   "execution_count": 22,
   "metadata": {
    "collapsed": true
   },
   "outputs": [],
   "source": [
    "root = \"/Users/briangoggin/Dropbox/CP_213/Paper/\"\n",
    "data = root+\"Raw Data/\""
   ]
  },
  {
   "cell_type": "markdown",
   "metadata": {},
   "source": [
    "# Section 1. Month-Level Ridership"
   ]
  },
  {
   "cell_type": "code",
   "execution_count": 23,
   "metadata": {
    "collapsed": false
   },
   "outputs": [],
   "source": [
    "def extract_exits(month, year):\n",
    "    '''\n",
    "    This function extracts the station exits for Fruitvale Station\n",
    "    by month. Output = Weekday average. Output2 = Saturday average. \n",
    "    Output3 = Sunday Average.\n",
    "    '''\n",
    "    years1 = ['2001', '2002', '2003', '2004', '2005', '2006', '2007']\n",
    "    years2 = ['2008']\n",
    "    years3 = ['2009']\n",
    "    years4 = ['2010', '2011', '2012', '2013', '2014', '2015', '2016']\n",
    "    month1 = ['January', 'February', 'March', 'April', 'May', 'June']\n",
    "    month2 = ['July', 'August', 'September', 'October', 'November', 'December']\n",
    "    if year in years1:\n",
    "        weekname = 'Wkdy Adj OD'\n",
    "        satname = 'Sat Adj OD'\n",
    "        sunname = 'Sun Adj OD'\n",
    "        filename = month+' '+ year+ ' '+ 'Entry_Exit Matrices.xls'\n",
    "    elif year in years2 and month in month1:\n",
    "        weekname = 'Wkdy Adj OD'\n",
    "        satname = 'Sat Adj OD'\n",
    "        sunname = 'Sun Adj OD'\n",
    "        filename = 'Ridership_'+month+' '+year+'.xls'\n",
    "    elif year in years2 and month in month2:\n",
    "        weekname = 'Weekday OD'\n",
    "        satname = 'Saturday OD'\n",
    "        sunname = 'Sunday OD'\n",
    "        filename = 'Ridership_'+month+' '+year+'.xls'\n",
    "    elif year in years3:\n",
    "        weekname = 'Weekday OD'\n",
    "        satname = 'Saturday OD'\n",
    "        sunname = 'Sunday OD'\n",
    "        filename = 'Ridership_'+month+' '+year+'.xls'\n",
    "    elif year in years4:\n",
    "        weekname = 'Weekday OD'\n",
    "        satname = 'Saturday OD'\n",
    "        sunname = 'Sunday OD'\n",
    "        filename = 'Ridership_'+month+year+'.xlsx'\n",
    "        \n",
    "    df = pd.read_excel(data+ '/'+filename, sheetname = weekname, header = 1)\n",
    "    df2 = pd.read_excel(data+ '/'+filename, sheetname = satname, header = 1)\n",
    "    df3 = pd.read_excel(data+ '/'+filename, sheetname = sunname, header = 1)\n",
    "    output = df.loc['FV']['Exits']\n",
    "    output2 = df2.loc['FV']['Exits']\n",
    "    output3 = df3.loc['FV']['Exits']\n",
    "    output4 = df.drop(['Entries'])['Exits'].mean()\n",
    "    output5 = df2.drop(['Entries'])['Exits'].mean()\n",
    "    output6 = df3.drop(['Entries'])['Exits'].mean()\n",
    "    return output, output2, output3, output4, output5, output6"
   ]
  },
  {
   "cell_type": "code",
   "execution_count": 24,
   "metadata": {
    "collapsed": false
   },
   "outputs": [],
   "source": [
    "months = ['January', 'February', 'March', 'April', 'May', 'June', 'July', 'August', 'September', 'October', 'November', 'December']\n",
    "years = ['2001', '2002', '2003', '2004', '2005', '2006', '2007', '2008', '2009', '2010', '2011', '2012', '2013', '2014', '2015']\n",
    "wkdy = []\n",
    "sat = []\n",
    "sun = []\n",
    "wkdy2 = []\n",
    "sat2 = []\n",
    "sun2 = []\n",
    "for year in years:\n",
    "    for month in months:\n",
    "        wkdy.append(extract_exits(month, year)[0])\n",
    "        sat.append(extract_exits(month, year)[1])\n",
    "        sun.append(extract_exits(month, year)[2])\n",
    "        wkdy2.append(extract_exits(month, year)[3])\n",
    "        sat2.append(extract_exits(month, year)[4])\n",
    "        sun2.append(extract_exits(month, year)[5])\n",
    "\n",
    "#add 2016 (does not yet have December)\n",
    "months2 = ['January', 'February', 'March', 'April', 'May', 'June', 'July', 'August', 'September', 'October', 'November']\n",
    "for month in months2:\n",
    "    wkdy.append(extract_exits(month, '2016')[0])\n",
    "    sat.append(extract_exits(month, '2016')[1])\n",
    "    sun.append(extract_exits(month, '2016')[2])\n",
    "    wkdy2.append(extract_exits(month, '2016')[3])\n",
    "    sat2.append(extract_exits(month, '2016')[4])\n",
    "    sun2.append(extract_exits(month, '2016')[5])"
   ]
  },
  {
   "cell_type": "code",
   "execution_count": 26,
   "metadata": {
    "collapsed": false
   },
   "outputs": [],
   "source": [
    "dates = []\n",
    "for year in years:\n",
    "    for month in months:\n",
    "        dates.append(month+' '+year)\n",
    "\n",
    "#add 2016 (does not yet have December)\n",
    "for month in months2:\n",
    "    dates.append(month+' '+'2016')"
   ]
  },
  {
   "cell_type": "code",
   "execution_count": 27,
   "metadata": {
    "collapsed": false
   },
   "outputs": [],
   "source": [
    "#Create Dataframe\n",
    "ridership = pd.DataFrame({'date': dates,'FV_wkdy': wkdy, 'FV_sat': sat, 'FV_sun': sun, 'BART_wkdy': wkdy2, 'BART_sat': sat2, 'BART_sun': sun2})"
   ]
  },
  {
   "cell_type": "code",
   "execution_count": null,
   "metadata": {
    "collapsed": false
   },
   "outputs": [],
   "source": [
    "ridership.head()"
   ]
  },
  {
   "cell_type": "code",
   "execution_count": 28,
   "metadata": {
    "collapsed": true
   },
   "outputs": [],
   "source": [
    "export_path = root+\"/Intermediate Data/\"\n",
    "ridership.to_csv(export_path+\"/ridership.csv\")"
   ]
  },
  {
   "cell_type": "code",
   "execution_count": null,
   "metadata": {
    "collapsed": true
   },
   "outputs": [],
   "source": []
  }
 ],
 "metadata": {
  "anaconda-cloud": {},
  "kernelspec": {
   "display_name": "Python [Root]",
   "language": "python",
   "name": "Python [Root]"
  },
  "language_info": {
   "codemirror_mode": {
    "name": "ipython",
    "version": 3
   },
   "file_extension": ".py",
   "mimetype": "text/x-python",
   "name": "python",
   "nbconvert_exporter": "python",
   "pygments_lexer": "ipython3",
   "version": "3.5.2"
  }
 },
 "nbformat": 4,
 "nbformat_minor": 0
}
